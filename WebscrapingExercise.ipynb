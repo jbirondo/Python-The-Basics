{
  "nbformat": 4,
  "nbformat_minor": 0,
  "metadata": {
    "colab": {
      "name": "WebscrapingExercise.ipynb",
      "provenance": [],
      "authorship_tag": "ABX9TyPLrB0HLZSnbXkFXmrwVV7l",
      "include_colab_link": true
    },
    "kernelspec": {
      "name": "python3",
      "display_name": "Python 3"
    }
  },
  "cells": [
    {
      "cell_type": "markdown",
      "metadata": {
        "id": "view-in-github",
        "colab_type": "text"
      },
      "source": [
        "<a href=\"https://colab.research.google.com/github/jbirondo/Python-The-Basics/blob/master/WebscrapingExercise.ipynb\" target=\"_parent\"><img src=\"https://colab.research.google.com/assets/colab-badge.svg\" alt=\"Open In Colab\"/></a>"
      ]
    },
    {
      "cell_type": "code",
      "metadata": {
        "id": "6T0580u8huDI",
        "colab_type": "code",
        "colab": {
          "base_uri": "https://localhost:8080/",
          "height": 68
        },
        "outputId": "3dd11f5e-c95f-4e5e-aff1-60b1c7554fb5"
      },
      "source": [
        "import requests\n",
        "from bs4 import BeautifulSoup\n",
        "r = requests.get(\"http://www.pyclass.com/example.html\", headers={'User-agent': 'Mozilla/5.0 (X11; Ubuntu; Linux x86_64; rv:61.0) Gecko/20100101 Firefox/61.0'})\n",
        "\n",
        "c = r.content\n",
        "\n",
        "soup = BeautifulSoup(c, \"html.parser\")\n",
        "\n",
        "# print(soup.prettify())\n",
        "\n",
        "all = soup.find_all(\"div\", {\"class\":\"cities\"})\n",
        "\n",
        "for ele in all:\n",
        "  print(ele.find(\"h2\").text)"
      ],
      "execution_count": 12,
      "outputs": [
        {
          "output_type": "stream",
          "text": [
            "London\n",
            "Paris\n",
            "Tokyo\n"
          ],
          "name": "stdout"
        }
      ]
    }
  ]
}