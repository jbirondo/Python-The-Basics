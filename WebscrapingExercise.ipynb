{
  "nbformat": 4,
  "nbformat_minor": 0,
  "metadata": {
    "colab": {
      "name": "WebscrapingExercise.ipynb",
      "provenance": [],
      "authorship_tag": "ABX9TyM9YYiuUIMGpOGgAzg1S0sJ",
      "include_colab_link": true
    },
    "kernelspec": {
      "name": "python3",
      "display_name": "Python 3"
    }
  },
  "cells": [
    {
      "cell_type": "markdown",
      "metadata": {
        "id": "view-in-github",
        "colab_type": "text"
      },
      "source": [
        "<a href=\"https://colab.research.google.com/github/jbirondo/Python-The-Basics/blob/master/WebscrapingExercise.ipynb\" target=\"_parent\"><img src=\"https://colab.research.google.com/assets/colab-badge.svg\" alt=\"Open In Colab\"/></a>"
      ]
    },
    {
      "cell_type": "code",
      "metadata": {
        "id": "6T0580u8huDI",
        "colab_type": "code",
        "colab": {
          "base_uri": "https://localhost:8080/",
          "height": 731
        },
        "outputId": "95c8b51e-278b-4b4f-92d6-3ac3831609c9"
      },
      "source": [
        "import requests\n",
        "from bs4 import BeautifulSoup\n",
        "r = requests.get(\"http://www.pyclass.com/example.html\", headers={'User-agent': 'Mozilla/5.0 (X11; Ubuntu; Linux x86_64; rv:61.0) Gecko/20100101 Firefox/61.0'})\n",
        "\n",
        "c = r.content\n",
        "\n",
        "soup = BeautifulSoup(c, \"html.parser\")\n",
        "\n",
        "# print(soup.prettify())\n",
        "\n",
        "soup.find_all(\"div\", class=\"cities\")"
      ],
      "execution_count": 3,
      "outputs": [
        {
          "output_type": "stream",
          "text": [
            "<!DOCTYPE html>\n",
            "<html>\n",
            " <head>\n",
            "  <style>\n",
            "   div.cities {\n",
            "    background-color:black;\n",
            "    color:white;\n",
            "    margin:20px;\n",
            "    padding:20px;\n",
            "}\n",
            "  </style>\n",
            " </head>\n",
            " <body>\n",
            "  <h1 align=\"center\">\n",
            "   Here are three big cities\n",
            "  </h1>\n",
            "  <div class=\"cities\">\n",
            "   <h2>\n",
            "    London\n",
            "   </h2>\n",
            "   <p>\n",
            "    London is the capital of England and it's been a British settlement since 2000 years ago.\n",
            "   </p>\n",
            "  </div>\n",
            "  <div class=\"cities\">\n",
            "   <h2>\n",
            "    Paris\n",
            "   </h2>\n",
            "   <p>\n",
            "    Paris is the capital city of France. It was declared capital since 508.\n",
            "   </p>\n",
            "  </div>\n",
            "  <div class=\"cities\">\n",
            "   <h2>\n",
            "    Tokyo\n",
            "   </h2>\n",
            "   <p>\n",
            "    Tokyo is the capital of Japan and one of the most populated cities in the world.\n",
            "   </p>\n",
            "  </div>\n",
            " </body>\n",
            "</html>\n"
          ],
          "name": "stdout"
        }
      ]
    }
  ]
}